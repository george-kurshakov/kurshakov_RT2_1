{
 "cells": [
  {
   "cell_type": "markdown",
   "id": "21fe064a",
   "metadata": {},
   "source": [
    "# Research Track 2 final assignment by G.A. Kurshakov"
   ]
  },
  {
   "cell_type": "markdown",
   "id": "04cd784b",
   "metadata": {},
   "source": [
    "## How to run the code"
   ]
  },
  {
   "cell_type": "markdown",
   "id": "87b1e8f7",
   "metadata": {},
   "source": [
    "Follow the steps:\n",
    "\n",
    "- Build the ROS package using `catkin_make`\n",
    "- Start the simulation running `roslaunch rt2_assignment1 sim.launch`\n",
    "- Push the *Run all* button in this Jupyter Notebook to run the control node.\n",
    "- Enjoy the interface and the plots!\n",
    "> You might want to check if all the publishers and subscribers were initialized correctly running `rosnode info /robot_control_node` in your Linux terminal."
   ]
  },
  {
   "cell_type": "markdown",
   "id": "6d00b358",
   "metadata": {},
   "source": [
    "In this initial part we import all the packages we might need (a lot of them!) and initialize the global variables."
   ]
  },
  {
   "cell_type": "code",
   "execution_count": 1,
   "id": "30a0ae0c",
   "metadata": {
    "ExecuteTime": {
     "end_time": "2021-07-02T12:29:49.097199Z",
     "start_time": "2021-07-02T12:29:40.176560Z"
    }
   },
   "outputs": [],
   "source": [
    "%matplotlib widget\n",
    "import matplotlib.pyplot as plt\n",
    "import jupyros as jr\n",
    "import rospy\n",
    "import math\n",
    "import time\n",
    "from nav_msgs.msg import Odometry\n",
    "from matplotlib import animation, rc\n",
    "from geometry_msgs.msg import Twist\n",
    "from rt2_assignment1.srv import Command\n",
    "from rt2_assignment1.msg import PositionActionResult\n",
    "from tf import transformations\n",
    "import ipywidgets as widgets\n",
    "from ipywidgets import Button, Layout, ButtonStyle, GridBox, VBox, HBox\n",
    "\n",
    "rospy.init_node('robot_control_node')\n",
    "\n",
    "goals = 0\n",
    "cancelled = 0 \n",
    "reached = 0 \n",
    "active = False\n",
    "start_time = time.time()\n",
    "stop_time = 0\n",
    "data = list()\n",
    "odom_linear =list()\n",
    "cmdvel_linear=list()\n",
    "odom_angular =list()\n",
    "cmdvel_angular=list()\n",
    "time_arr = list(range(0, 10))\n",
    "#time2 = list(range(0, 10))\n",
    "clock = time.time()"
   ]
  },
  {
   "cell_type": "markdown",
   "id": "e95c1607",
   "metadata": {},
   "source": [
    "## Input"
   ]
  },
  {
   "cell_type": "markdown",
   "id": "738cc2a4",
   "metadata": {},
   "source": [
    "### Buttons to start and stop robot random behavior"
   ]
  },
  {
   "cell_type": "markdown",
   "id": "841dd319",
   "metadata": {},
   "source": [
    "We initialize a user interface client to send our commands."
   ]
  },
  {
   "cell_type": "code",
   "execution_count": 2,
   "id": "9215e6c4",
   "metadata": {
    "ExecuteTime": {
     "end_time": "2021-07-02T12:29:49.142726Z",
     "start_time": "2021-07-02T12:29:49.101412Z"
    }
   },
   "outputs": [],
   "source": [
    "ui_client = rospy.ServiceProxy('/user_interface', Command)"
   ]
  },
  {
   "cell_type": "markdown",
   "id": "90612010",
   "metadata": {},
   "source": [
    "Here we define three beautiful buttons for starting random behavior, stopping it and stopping it immediately."
   ]
  },
  {
   "cell_type": "code",
   "execution_count": 3,
   "id": "1e06f452",
   "metadata": {
    "ExecuteTime": {
     "end_time": "2021-07-02T12:29:50.174900Z",
     "start_time": "2021-07-02T12:29:49.153777Z"
    },
    "scrolled": true
   },
   "outputs": [
    {
     "data": {
      "application/vnd.jupyter.widget-view+json": {
       "model_id": "aacbdf6e73604dc8b6609cfc8dc7ff96",
       "version_major": 2,
       "version_minor": 0
      },
      "text/plain": [
       "HBox(children=(Button(description='START', layout=Layout(grid_area='start', width='10%'), style=ButtonStyle(bu…"
      ]
     },
     "metadata": {},
     "output_type": "display_data"
    }
   ],
   "source": [
    "start = Button(description='START',\n",
    "layout=Layout(width='10%', align=\"center\", grid_area='start'),\n",
    "style=ButtonStyle(button_color='lightgreen'))\n",
    "\n",
    "stop = Button(description='STOP',\n",
    "layout=Layout(width='10%', align=\"center\", grid_area='stop'),\n",
    "style=ButtonStyle(button_color='moccasin'))\n",
    "\n",
    "stop_now = Button(description='STOP NOW',\n",
    "layout=Layout(width='10%', align=\"center\", grid_area='stop_now'),\n",
    "style=ButtonStyle(button_color='salmon'))\n",
    "\n",
    "HBox([start, stop, stop_now])"
   ]
  },
  {
   "cell_type": "markdown",
   "id": "5a6d5c4a",
   "metadata": {},
   "source": [
    "And finally we define their behavior upon being clicked. Each button sends its own request to the *user_interface* server, corresponding to the requests in the original assignment solution."
   ]
  },
  {
   "cell_type": "code",
   "execution_count": 4,
   "id": "78a82c61",
   "metadata": {
    "ExecuteTime": {
     "end_time": "2021-07-02T12:29:50.423850Z",
     "start_time": "2021-07-02T12:29:50.204844Z"
    }
   },
   "outputs": [],
   "source": [
    "def on_start_clicked(b):\n",
    "    global active\n",
    "    global start_time\n",
    "    ui_client(\"start\")\n",
    "    active = True\n",
    "    start_time = time.time()\n",
    "    \n",
    "def on_stop_clicked(b):\n",
    "    ui_client(\"stop\")\n",
    "    \n",
    "def on_stopnow_clicked(b):\n",
    "    global active\n",
    "    global cancelled\n",
    "    ui_client(\"stop_now\")\n",
    "    active = False\n",
    "    cancelled += 1\n",
    "    \n",
    "start.on_click(on_start_clicked)\n",
    "stop.on_click(on_stop_clicked)\n",
    "stop_now.on_click(on_stopnow_clicked)"
   ]
  },
  {
   "cell_type": "markdown",
   "id": "a43dd47a",
   "metadata": {},
   "source": [
    "### Sliders to change velocity"
   ]
  },
  {
   "cell_type": "markdown",
   "id": "f285c692",
   "metadata": {},
   "source": [
    "Sliders are directly linked to **ROS Parameter Server**. Every time a slider value is changed, the corresponding parameter is being set to the new value."
   ]
  },
  {
   "cell_type": "code",
   "execution_count": 5,
   "id": "d4d8e07d",
   "metadata": {
    "ExecuteTime": {
     "end_time": "2021-07-02T12:29:50.954956Z",
     "start_time": "2021-07-02T12:29:50.432567Z"
    }
   },
   "outputs": [
    {
     "data": {
      "application/vnd.jupyter.widget-view+json": {
       "model_id": "b26cb274065644cab39ed0c35fea9bdb",
       "version_major": 2,
       "version_minor": 0
      },
      "text/plain": [
       "FloatSlider(value=1.0, description='Linear', max=2.0)"
      ]
     },
     "metadata": {},
     "output_type": "display_data"
    },
    {
     "data": {
      "application/vnd.jupyter.widget-view+json": {
       "model_id": "cbb3cdde67df42d886483c50326bf4cd",
       "version_major": 2,
       "version_minor": 0
      },
      "text/plain": [
       "FloatSlider(value=1.0, description='Angular', max=2.0)"
      ]
     },
     "metadata": {},
     "output_type": "display_data"
    }
   ],
   "source": [
    "lin_vel = widgets.FloatSlider(min=0.0, max=2.0, value=1.0, description=\"Linear\")\n",
    "display(lin_vel)\n",
    "\n",
    "ang_vel = widgets.FloatSlider(min=0.0, max=2.0, value=1.0, description=\"Angular\")\n",
    "display(ang_vel)\n",
    "\n",
    "def on_valuelin_change(change):\n",
    "    rospy.set_param('lin_vel', change['new'])\n",
    "    \n",
    "def on_valueang_change(change):\n",
    "    rospy.set_param('ang_vel', change['new'])\n",
    "\n",
    "lin_vel.observe(on_valuelin_change, names='value')\n",
    "ang_vel.observe(on_valueang_change, names='value')"
   ]
  },
  {
   "cell_type": "markdown",
   "id": "79936d55",
   "metadata": {},
   "source": [
    "### Manual control buttons"
   ]
  },
  {
   "cell_type": "markdown",
   "id": "dfecb243",
   "metadata": {},
   "source": [
    "The buttons are arranged in an intuitive fashion and augmented with the arrows of corresponding direction."
   ]
  },
  {
   "cell_type": "code",
   "execution_count": 6,
   "id": "5bdc7f83",
   "metadata": {
    "ExecuteTime": {
     "end_time": "2021-07-02T12:29:51.749589Z",
     "start_time": "2021-07-02T12:29:50.962795Z"
    }
   },
   "outputs": [
    {
     "data": {
      "application/vnd.jupyter.widget-view+json": {
       "model_id": "7a5319ac533f4fa6ab1f8334e197834f",
       "version_major": 2,
       "version_minor": 0
      },
      "text/plain": [
       "GridBox(children=(Button(description='↑', layout=Layout(grid_area='forward', width='auto'), style=ButtonStyle(…"
      ]
     },
     "metadata": {},
     "output_type": "display_data"
    }
   ],
   "source": [
    "forward = Button(description='\\u2191',\n",
    "layout=Layout(width='auto', align=\"center\", grid_area='forward'),\n",
    "style=ButtonStyle(button_color='lightgreen'))\n",
    "\n",
    "backward = Button(description='\\u2193',\n",
    "layout=Layout(width='auto', align=\"center\", grid_area='backward'),\n",
    "style=ButtonStyle(button_color='lightgreen'))\n",
    "\n",
    "left = Button(description='\\u21b6',\n",
    "layout=Layout(width='auto', align=\"center\", grid_area='left'),\n",
    "style=ButtonStyle(button_color='lightgreen'))\n",
    "\n",
    "right = Button(description='\\u21b7',\n",
    "layout=Layout(width='auto', align=\"center\", grid_area='right'),\n",
    "style=ButtonStyle(button_color='lightgreen'))\n",
    "\n",
    "cancel = Button(description='O',\n",
    "layout=Layout(width='auto', align=\"center\", grid_area='cancel'),\n",
    "style=ButtonStyle(button_color='lightgreen'))\n",
    "\n",
    "GridBox(children=[forward, backward, left, right, cancel],\n",
    "layout=Layout(\n",
    "width='10%',\n",
    "grid_template_rows='33% 33% 33%',\n",
    "grid_template_columns='33% 33% 33%',\n",
    "grid_template_areas='''\n",
    "\" . forward . \"\n",
    "\"left cancel right \"\n",
    "\" . backward . \"\n",
    "''')\n",
    ")"
   ]
  },
  {
   "cell_type": "markdown",
   "id": "093cea25",
   "metadata": {},
   "source": [
    "A publisher publishes a corresponding velocity command on */cmd_vel* topic each time a button is clicked. Hence, if you change the velocity using the sliders, it will not be changed until you click one of the control buttons again. When any of this button is clicked a \"stop_now\" message is being sent to the user interface server in case the robot is currently performing random behavior. This will stop the robot and after that you might need to click the button again in case stopping command will be published later than the corresponding velocity."
   ]
  },
  {
   "cell_type": "code",
   "execution_count": 7,
   "id": "07ec0744",
   "metadata": {
    "ExecuteTime": {
     "end_time": "2021-07-02T12:29:51.857492Z",
     "start_time": "2021-07-02T12:29:51.776311Z"
    }
   },
   "outputs": [],
   "source": [
    "pub = rospy.Publisher('cmd_vel', Twist, queue_size=10)\n",
    "\n",
    "def on_forward_clicked(b):\n",
    "    global active\n",
    "    if active == True:\n",
    "        global cancelled\n",
    "        ui_client(\"stop_now\")\n",
    "        active = False\n",
    "        cancelled += 1\n",
    "    msg = Twist()\n",
    "    msg.linear.x = rospy.get_param('lin_vel')\n",
    "    pub.publish(msg)\n",
    "    \n",
    "def on_backward_clicked(b):\n",
    "    global active\n",
    "    if active == True:\n",
    "        global cancelled\n",
    "        ui_client(\"stop_now\")\n",
    "        active = False\n",
    "        cancelled += 1\n",
    "    msg = Twist()\n",
    "    msg.linear.x = -rospy.get_param('lin_vel')\n",
    "    pub.publish(msg)\n",
    "    \n",
    "def on_left_clicked(b):\n",
    "    global active\n",
    "    if active == True:\n",
    "        global cancelled\n",
    "        ui_client(\"stop_now\")\n",
    "        active = False\n",
    "        cancelled += 1\n",
    "    msg = Twist()\n",
    "    msg.angular.z = -rospy.get_param('ang_vel')\n",
    "    pub.publish(msg)\n",
    "    \n",
    "def on_right_clicked(b):\n",
    "    global active\n",
    "    if active == True:\n",
    "        global cancelled\n",
    "        ui_client(\"stop_now\")\n",
    "        active = False\n",
    "        cancelled += 1\n",
    "    msg = Twist()\n",
    "    msg.angular.z = rospy.get_param('ang_vel')\n",
    "    pub.publish(msg)\n",
    "    \n",
    "def on_cancel_clicked(b):\n",
    "    global active\n",
    "    if active == True:\n",
    "        global cancelled\n",
    "        ui_client(\"stop_now\")\n",
    "        active = False\n",
    "        cancelled += 1\n",
    "    msg = Twist()\n",
    "    pub.publish(msg)\n",
    "    \n",
    "forward.on_click(on_forward_clicked)\n",
    "backward.on_click(on_backward_clicked)\n",
    "left.on_click(on_left_clicked)\n",
    "right.on_click(on_right_clicked)\n",
    "cancel.on_click(on_cancel_clicked)"
   ]
  },
  {
   "cell_type": "markdown",
   "id": "5a1f09ae",
   "metadata": {},
   "source": [
    "## Output"
   ]
  },
  {
   "cell_type": "markdown",
   "id": "a4e4a2b7",
   "metadata": {},
   "source": [
    "### A position plot"
   ]
  },
  {
   "cell_type": "markdown",
   "id": "3e1a4497",
   "metadata": {},
   "source": [
    "The node is subscribed to */odom* topic. It takes position and appends it to a data vector corresponding to the trajectory. The orientation is received from the same topic, that is how we get the yaw angle to be depicted in the plot. Also from */odom* we get the linear and angular velocity data to be displayed further in the line plots."
   ]
  },
  {
   "cell_type": "code",
   "execution_count": 8,
   "id": "fcfee2b7",
   "metadata": {
    "ExecuteTime": {
     "end_time": "2021-07-02T12:29:52.785805Z",
     "start_time": "2021-07-02T12:29:51.893373Z"
    },
    "scrolled": true
   },
   "outputs": [
    {
     "data": {
      "application/vnd.jupyter.widget-view+json": {
       "model_id": "332559c3501b473593a78fd06776b24a",
       "version_major": 2,
       "version_minor": 0
      },
      "text/plain": [
       "Canvas(toolbar=Toolbar(toolitems=[('Home', 'Reset original view', 'home', 'home'), ('Back', 'Back to previous …"
      ]
     },
     "metadata": {},
     "output_type": "display_data"
    }
   ],
   "source": [
    "fig1, ax1 = plt.subplots()\n",
    "fig1.suptitle('Robot position and orientation plot', fontsize=16)\n",
    "\n",
    "ax1.set_xlim(( -5, 5))\n",
    "ax1.set_ylim((-5, 5))\n",
    "ax1.set_aspect(\"equal\")\n",
    "\n",
    "line, = ax1.plot([], [], 'ro')\n",
    "an1 = ax1.annotate(\"\", xy=(0, 1), xytext=(0, 0), arrowprops={\"facecolor\": \"black\"})\n",
    "x_data=[]\n",
    "y_data=[]\n",
    "yaw = 0"
   ]
  },
  {
   "cell_type": "code",
   "execution_count": 9,
   "id": "f281763d",
   "metadata": {
    "ExecuteTime": {
     "end_time": "2021-07-02T12:29:53.067018Z",
     "start_time": "2021-07-02T12:29:52.808287Z"
    }
   },
   "outputs": [
    {
     "data": {
      "application/vnd.jupyter.widget-view+json": {
       "model_id": "4270354268e74ea1a783d56eb7008ebe",
       "version_major": 2,
       "version_minor": 0
      },
      "text/plain": [
       "VBox(children=(HBox(children=(Button(description='Stop', style=ButtonStyle()),)), Output(layout=Layout(border=…"
      ]
     },
     "metadata": {},
     "output_type": "display_data"
    }
   ],
   "source": [
    "def init():\n",
    "    line.set_data([], [])\n",
    "    return (line, )\n",
    "\n",
    "\n",
    "def odom_callback(msg):\n",
    "    global yaw\n",
    "    global clock\n",
    "    y_data.append(msg.pose.pose.position.y)\n",
    "    x_data.append(msg.pose.pose.position.x)\n",
    "    quaternion = (\n",
    "        msg.pose.pose.orientation.x,\n",
    "        msg.pose.pose.orientation.y,\n",
    "        msg.pose.pose.orientation.z,\n",
    "        msg.pose.pose.orientation.w)\n",
    "    euler = transformations.euler_from_quaternion(quaternion)\n",
    "    yaw = euler[2]\n",
    "    if len(time_arr) > 10:\n",
    "        time_arr.pop(0)\n",
    "    if len(odom_linear) > 10:\n",
    "        odom_linear.pop(0)\n",
    "    if len(odom_angular) > 10:\n",
    "        odom_angular.pop(0)\n",
    "    il = np.float32(msg.twist.twist.linear.x)\n",
    "    ia = np.float32(msg.twist.twist.angular.z)\n",
    "    it = np.float32(time.time() - clock)\n",
    "    odom_linear.append(il)\n",
    "    odom_angular.append(ia)\n",
    "    time_arr.append(it)\n",
    "\n",
    "\n",
    "def animate(i):\n",
    "    global yaw\n",
    "    line.set_data(x_data, y_data)\n",
    "    an1.xy = (x_data[-1] + math.cos(yaw), y_data[-1] + math.sin(yaw))\n",
    "    an1.set_position((x_data[-1], y_data[-1]))\n",
    "    return (line, an1)\n",
    "\n",
    "\n",
    "\n",
    "jr.subscribe('/odom', Odometry, odom_callback)"
   ]
  },
  {
   "cell_type": "code",
   "execution_count": 10,
   "id": "c6085455",
   "metadata": {
    "ExecuteTime": {
     "end_time": "2021-07-02T12:29:53.464308Z",
     "start_time": "2021-07-02T12:29:53.072510Z"
    }
   },
   "outputs": [],
   "source": [
    "anim = animation.FuncAnimation(fig1, animate, init_func=init,\n",
    "                               frames=100, interval=20, blit=True)"
   ]
  },
  {
   "cell_type": "markdown",
   "id": "7be3144f",
   "metadata": {},
   "source": [
    "### A reached and cancelled targets bar plot"
   ]
  },
  {
   "cell_type": "markdown",
   "id": "63ba9669",
   "metadata": {},
   "source": [
    "Each time a target is reached, the node receives the action result (both if the target was really reached or just cancelled). Cancelled targets are enumerated in the cancel buttons handlers. Therefore, we get the number of cancelled goals directly and can get the number of reached goals subtracting cancelled goals from the total number.\n",
    "> This plot is not animated! You have to rerun the cell manually if you want to update it!"
   ]
  },
  {
   "cell_type": "code",
   "execution_count": 11,
   "id": "2a746e2e",
   "metadata": {
    "ExecuteTime": {
     "end_time": "2021-07-02T12:29:53.950090Z",
     "start_time": "2021-07-02T12:29:53.482330Z"
    }
   },
   "outputs": [
    {
     "data": {
      "application/vnd.jupyter.widget-view+json": {
       "model_id": "8dc3d2c7e7f0435dbd7be80a20044163",
       "version_major": 2,
       "version_minor": 0
      },
      "text/plain": [
       "VBox(children=(HBox(children=(Button(description='Stop', style=ButtonStyle()),)), Output(layout=Layout(border=…"
      ]
     },
     "metadata": {},
     "output_type": "display_data"
    }
   ],
   "source": [
    "def reached_goal_clb(msg):\n",
    "    global goals\n",
    "    global reached\n",
    "    global start_time\n",
    "    global stop_time\n",
    "    global data \n",
    "    stop_time = time.time()\n",
    "    data.append(stop_time - start_time)\n",
    "    start_time = time.time()\n",
    "    goals += 1\n",
    "    reached = goals - cancelled\n",
    "  \n",
    "\n",
    "jr.subscribe('/go_to_point/result',PositionActionResult, reached_goal_clb)"
   ]
  },
  {
   "cell_type": "code",
   "execution_count": 21,
   "id": "6dbd3301",
   "metadata": {
    "ExecuteTime": {
     "end_time": "2021-07-02T12:37:28.789893Z",
     "start_time": "2021-07-02T12:37:28.276529Z"
    }
   },
   "outputs": [
    {
     "data": {
      "application/vnd.jupyter.widget-view+json": {
       "model_id": "577d4ccecdf34df69619efe237b53a7e",
       "version_major": 2,
       "version_minor": 0
      },
      "text/plain": [
       "Canvas(toolbar=Toolbar(toolitems=[('Home', 'Reset original view', 'home', 'home'), ('Back', 'Back to previous …"
      ]
     },
     "metadata": {},
     "output_type": "display_data"
    }
   ],
   "source": [
    "fig2, ax2 = plt.subplots()\n",
    "fig2.suptitle('Number of targets reached and cancelled', fontsize=16)\n",
    "y = (reached,cancelled)\n",
    "index = np.arange(2)\n",
    "\n",
    "fig2, ax2 = plt.bar(index,y,width=0.5,color='r')\n",
    "plt.ylabel('Values')\n",
    "plt.xticks(index, ('reached', 'cancelled'))\n",
    "plt.show()"
   ]
  },
  {
   "cell_type": "markdown",
   "id": "84f1f672",
   "metadata": {},
   "source": [
    "### A histogram time plot"
   ]
  },
  {
   "cell_type": "markdown",
   "id": "e1362b93",
   "metadata": {},
   "source": [
    "Each time a target is reached, the time interval is registered in a vector which is then displayed as a histogram plot. This moment is also considered the start of a new goal reaching time interval, just like when pressing the **START** button.\n",
    "> This plot is not animated! You have to rerun the cell manually if you want to update it!"
   ]
  },
  {
   "cell_type": "code",
   "execution_count": 22,
   "id": "0008d7aa",
   "metadata": {
    "ExecuteTime": {
     "end_time": "2021-07-02T12:37:38.898545Z",
     "start_time": "2021-07-02T12:37:38.304693Z"
    }
   },
   "outputs": [
    {
     "data": {
      "application/vnd.jupyter.widget-view+json": {
       "model_id": "46775e44ad804ed598771768fff3c43a",
       "version_major": 2,
       "version_minor": 0
      },
      "text/plain": [
       "Canvas(toolbar=Toolbar(toolitems=[('Home', 'Reset original view', 'home', 'home'), ('Back', 'Back to previous …"
      ]
     },
     "metadata": {},
     "output_type": "display_data"
    }
   ],
   "source": [
    "fig3, ax3 = plt.subplots()\n",
    "fig3.suptitle('Time to reach the targets', fontsize=16)\n",
    "X=list(range(0,len(data),1))\n",
    "fig3=plt.subplot(111)\n",
    "plt.bar(X,data,width=0.5,color='b')\n",
    "plt.ylabel('time (s)')\n",
    "plt.show()"
   ]
  },
  {
   "cell_type": "markdown",
   "id": "ed640529",
   "metadata": {},
   "source": [
    "### Linear velocity line plot"
   ]
  },
  {
   "cell_type": "code",
   "execution_count": 14,
   "id": "56a93d2b",
   "metadata": {
    "ExecuteTime": {
     "end_time": "2021-07-02T12:29:55.398922Z",
     "start_time": "2021-07-02T12:29:55.002498Z"
    }
   },
   "outputs": [
    {
     "data": {
      "application/vnd.jupyter.widget-view+json": {
       "model_id": "0bb284ac529849119d77ae6e8f951cee",
       "version_major": 2,
       "version_minor": 0
      },
      "text/plain": [
       "VBox(children=(HBox(children=(Button(description='Stop', style=ButtonStyle()),)), Output(layout=Layout(border=…"
      ]
     },
     "metadata": {},
     "output_type": "display_data"
    }
   ],
   "source": [
    "def clb_cmdvel(msg):\n",
    "    if len(cmdvel_linear) > 10:\n",
    "        cmdvel_linear.pop(0)\n",
    "    if len(cmdvel_angular) > 10:\n",
    "        cmdvel_linear.pop(0)\n",
    "    il = np.float32(msg.linear.x)\n",
    "    ia = np.float32(msg.angular.z)\n",
    "    cmdvel_linear.append(il)\n",
    "    cmdvel_angular.append(ia)\n",
    "    \n",
    "\n",
    "jr.subscribe('/cmd_vel', Twist, clb_cmdvel)"
   ]
  },
  {
   "cell_type": "code",
   "execution_count": 15,
   "id": "675fbaf3",
   "metadata": {
    "ExecuteTime": {
     "end_time": "2021-07-02T12:29:56.310638Z",
     "start_time": "2021-07-02T12:29:55.417484Z"
    },
    "scrolled": true
   },
   "outputs": [
    {
     "data": {
      "application/vnd.jupyter.widget-view+json": {
       "model_id": "ed43e75237dc4be48c36042fb8acf4a7",
       "version_major": 2,
       "version_minor": 0
      },
      "text/plain": [
       "Canvas(toolbar=Toolbar(toolitems=[('Home', 'Reset original view', 'home', 'home'), ('Back', 'Back to previous …"
      ]
     },
     "metadata": {},
     "output_type": "display_data"
    },
    {
     "data": {
      "text/plain": [
       "<matplotlib.legend.Legend at 0x7f740822f820>"
      ]
     },
     "execution_count": 15,
     "metadata": {},
     "output_type": "execute_result"
    }
   ],
   "source": [
    "fig4, ax4 = plt.subplots()\n",
    "fig4.suptitle('Linear velocity', fontsize=16)\n",
    "\n",
    "line1, = ax4.plot([], [], color ='r', label ='/odom')\n",
    "line2, = ax4.plot([], [], color ='b', label ='/cmd_vel')\n",
    "ax4.set_xlabel('time (s)') \n",
    "ax4.set_ylabel('velocity m/s')\n",
    "ax4.legend(loc='upper right')"
   ]
  },
  {
   "cell_type": "code",
   "execution_count": 16,
   "id": "297f148c",
   "metadata": {
    "ExecuteTime": {
     "end_time": "2021-07-02T12:29:56.422607Z",
     "start_time": "2021-07-02T12:29:56.331032Z"
    }
   },
   "outputs": [],
   "source": [
    "def init1():\n",
    "    line1.set_data([], [])\n",
    "    line2.set_data([], [])\n",
    "    return [line1, line2]\n",
    "\n",
    "def animate1(i):\n",
    "    line1.set_data(time_arr, odom_linear)\n",
    "    line2.set_data(time_arr, cmdvel_linear)\n",
    "    ax4.axis([time_arr[0] - 0.2, time_arr[9] + 0.2, -1.0, 1.0])\n",
    "    ax4.legend(loc='upper right')\n",
    "    return [line1, line2]\n",
    "\n",
    "anim1 = animation.FuncAnimation(fig4, animate1, init_func = init1,\n",
    "                               frames = 100, interval=20, blit = False)"
   ]
  },
  {
   "cell_type": "markdown",
   "id": "86d2f072",
   "metadata": {},
   "source": [
    "### Angular velocity line plot"
   ]
  },
  {
   "cell_type": "code",
   "execution_count": 17,
   "id": "fd9eb426",
   "metadata": {
    "ExecuteTime": {
     "end_time": "2021-07-02T12:29:57.146288Z",
     "start_time": "2021-07-02T12:29:56.426651Z"
    }
   },
   "outputs": [
    {
     "data": {
      "application/vnd.jupyter.widget-view+json": {
       "model_id": "2eeec88be3e146cbaedff639da467da1",
       "version_major": 2,
       "version_minor": 0
      },
      "text/plain": [
       "Canvas(toolbar=Toolbar(toolitems=[('Home', 'Reset original view', 'home', 'home'), ('Back', 'Back to previous …"
      ]
     },
     "metadata": {},
     "output_type": "display_data"
    },
    {
     "data": {
      "text/plain": [
       "<matplotlib.legend.Legend at 0x7f74081d8100>"
      ]
     },
     "execution_count": 17,
     "metadata": {},
     "output_type": "execute_result"
    }
   ],
   "source": [
    "fig5, ax5 = plt.subplots()\n",
    "fig5.suptitle('Angular velocity', fontsize=16)\n",
    "\n",
    "line3, = ax5.plot([], [], color ='r', label ='/odom')\n",
    "line4, = ax5.plot([], [], color ='b', label ='/cmd_vel')\n",
    "ax5.set_xlabel('time (s)') \n",
    "ax5.set_ylabel('velocity rad/s')\n",
    "ax5.legend(loc='upper right')"
   ]
  },
  {
   "cell_type": "code",
   "execution_count": 18,
   "id": "01c43ffc",
   "metadata": {
    "ExecuteTime": {
     "end_time": "2021-07-02T12:29:57.262988Z",
     "start_time": "2021-07-02T12:29:57.169223Z"
    }
   },
   "outputs": [],
   "source": [
    "def init2():\n",
    "    line3.set_data([], [])\n",
    "    line4.set_data([], [])\n",
    "    return [line3, line4]\n",
    "\n",
    "def animate2(i):\n",
    "    line3.set_data(time_arr, odom_angular)\n",
    "    line4.set_data(time_arr, cmdvel_angular)\n",
    "    ax5.axis([time_arr[0] - 0.2, time_arr[9] + 0.2, -1.0, 1.0])\n",
    "    ax5.legend(loc='upper right')\n",
    "    return [line3, line4]\n",
    "\n",
    "anim2 = animation.FuncAnimation(fig5, animate2, init_func = init2,\n",
    "                               frames = 100, interval=20, blit = False)"
   ]
  }
 ],
 "metadata": {
  "hide_input": true,
  "kernelspec": {
   "display_name": "Python 3",
   "language": "python",
   "name": "python3"
  },
  "language_info": {
   "codemirror_mode": {
    "name": "ipython",
    "version": 3
   },
   "file_extension": ".py",
   "mimetype": "text/x-python",
   "name": "python",
   "nbconvert_exporter": "python",
   "pygments_lexer": "ipython3",
   "version": "3.8.5"
  },
  "toc": {
   "base_numbering": 1,
   "nav_menu": {},
   "number_sections": true,
   "sideBar": true,
   "skip_h1_title": false,
   "title_cell": "Table of Contents",
   "title_sidebar": "Contents",
   "toc_cell": false,
   "toc_position": {},
   "toc_section_display": true,
   "toc_window_display": false
  },
  "varInspector": {
   "cols": {
    "lenName": 16,
    "lenType": 16,
    "lenVar": 40
   },
   "kernels_config": {
    "python": {
     "delete_cmd_postfix": "",
     "delete_cmd_prefix": "del ",
     "library": "var_list.py",
     "varRefreshCmd": "print(var_dic_list())"
    },
    "r": {
     "delete_cmd_postfix": ") ",
     "delete_cmd_prefix": "rm(",
     "library": "var_list.r",
     "varRefreshCmd": "cat(var_dic_list()) "
    }
   },
   "oldHeight": 524.85,
   "position": {
    "height": "40px",
    "left": "1043px",
    "right": "20px",
    "top": "190px",
    "width": "543px"
   },
   "types_to_exclude": [
    "module",
    "function",
    "builtin_function_or_method",
    "instance",
    "_Feature"
   ],
   "varInspector_section_display": "none",
   "window_display": false
  }
 },
 "nbformat": 4,
 "nbformat_minor": 5
}
