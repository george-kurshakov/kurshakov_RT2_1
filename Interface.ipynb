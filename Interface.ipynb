{
 "cells": [
  {
   "cell_type": "markdown",
   "id": "21fe064a",
   "metadata": {},
   "source": [
    "# Welcome!"
   ]
  },
  {
   "cell_type": "markdown",
   "id": "6d00b358",
   "metadata": {},
   "source": [
    "In this initial part we import all the packages we might need (a lot of them!)"
   ]
  },
  {
   "cell_type": "code",
   "execution_count": 29,
   "id": "30a0ae0c",
   "metadata": {
    "ExecuteTime": {
     "end_time": "2021-05-30T19:47:18.116954Z",
     "start_time": "2021-05-30T19:47:18.099823Z"
    }
   },
   "outputs": [],
   "source": [
    "import matplotlib.pyplot as plt\n",
    "import jupyros as jr\n",
    "import rospy\n",
    "from rt2_assignment1.srv import Command\n",
    "import ipywidgets as widgets\n",
    "from ipywidgets import Button, Layout, ButtonStyle, GridBox, VBox, HBox"
   ]
  },
  {
   "cell_type": "markdown",
   "id": "738cc2a4",
   "metadata": {},
   "source": [
    "## Magic buttons to start and stop robot random behavior"
   ]
  },
  {
   "cell_type": "markdown",
   "id": "841dd319",
   "metadata": {},
   "source": [
    "We initialize a user interface client to send our commands."
   ]
  },
  {
   "cell_type": "code",
   "execution_count": 30,
   "id": "9215e6c4",
   "metadata": {
    "ExecuteTime": {
     "end_time": "2021-05-30T19:47:18.350283Z",
     "start_time": "2021-05-30T19:47:18.139107Z"
    }
   },
   "outputs": [],
   "source": [
    "ui_client = rospy.ServiceProxy('/user_interface', Command)"
   ]
  },
  {
   "cell_type": "markdown",
   "id": "90612010",
   "metadata": {},
   "source": [
    "Here we define three beautiful buttons for starting random behavior, stopping it and stopping it immediately."
   ]
  },
  {
   "cell_type": "code",
   "execution_count": 34,
   "id": "1e06f452",
   "metadata": {
    "ExecuteTime": {
     "end_time": "2021-05-30T19:54:13.762946Z",
     "start_time": "2021-05-30T19:54:13.684852Z"
    },
    "scrolled": true
   },
   "outputs": [
    {
     "data": {
      "application/vnd.jupyter.widget-view+json": {
       "model_id": "0daee9e01454430da3430d792d917455",
       "version_major": 2,
       "version_minor": 0
      },
      "text/plain": [
       "HBox(children=(Button(description='START', layout=Layout(grid_area='start', width='10%'), style=ButtonStyle(bu…"
      ]
     },
     "metadata": {},
     "output_type": "display_data"
    }
   ],
   "source": [
    "start = Button(description='START',\n",
    "layout=Layout(width='10%', align=\"center\", grid_area='start'),\n",
    "style=ButtonStyle(button_color='lightgreen'))\n",
    "\n",
    "stop = Button(description='STOP',\n",
    "layout=Layout(width='10%', align=\"center\", grid_area='stop'),\n",
    "style=ButtonStyle(button_color='moccasin'))\n",
    "\n",
    "stop_now = Button(description='STOP NOW',\n",
    "layout=Layout(width='10%', align=\"center\", grid_area='stop_now'),\n",
    "style=ButtonStyle(button_color='salmon'))\n",
    "\n",
    "HBox([start, stop, stop_now])"
   ]
  },
  {
   "cell_type": "markdown",
   "id": "5a6d5c4a",
   "metadata": {},
   "source": [
    "And finally we define their behavior upon being clicked. Each button sends its own request to the *user_interface* server, corresponding to the requests in the original assignment solution."
   ]
  },
  {
   "cell_type": "code",
   "execution_count": 32,
   "id": "78a82c61",
   "metadata": {
    "ExecuteTime": {
     "end_time": "2021-05-30T19:47:18.920909Z",
     "start_time": "2021-05-30T19:47:18.910559Z"
    }
   },
   "outputs": [],
   "source": [
    "def on_start_clicked(b):\n",
    "    ui_client(\"start\")\n",
    "    \n",
    "def on_stop_clicked(b):\n",
    "    ui_client(\"stop\")\n",
    "    \n",
    "def on_stopnow_clicked(b):\n",
    "    ui_client(\"stop_now\")\n",
    "    \n",
    "start.on_click(on_start_clicked)\n",
    "stop.on_click(on_stop_clicked)\n",
    "stop_now.on_click(on_stopnow_clicked)"
   ]
  },
  {
   "cell_type": "code",
   "execution_count": null,
   "id": "3e3f9a66",
   "metadata": {},
   "outputs": [],
   "source": []
  }
 ],
 "metadata": {
  "hide_input": true,
  "kernelspec": {
   "display_name": "Python 3",
   "language": "python",
   "name": "python3"
  },
  "language_info": {
   "codemirror_mode": {
    "name": "ipython",
    "version": 3
   },
   "file_extension": ".py",
   "mimetype": "text/x-python",
   "name": "python",
   "nbconvert_exporter": "python",
   "pygments_lexer": "ipython3",
   "version": "3.8.5"
  },
  "toc": {
   "base_numbering": 1,
   "nav_menu": {},
   "number_sections": true,
   "sideBar": true,
   "skip_h1_title": false,
   "title_cell": "Table of Contents",
   "title_sidebar": "Contents",
   "toc_cell": false,
   "toc_position": {},
   "toc_section_display": true,
   "toc_window_display": false
  },
  "varInspector": {
   "cols": {
    "lenName": 16,
    "lenType": 16,
    "lenVar": 40
   },
   "kernels_config": {
    "python": {
     "delete_cmd_postfix": "",
     "delete_cmd_prefix": "del ",
     "library": "var_list.py",
     "varRefreshCmd": "print(var_dic_list())"
    },
    "r": {
     "delete_cmd_postfix": ") ",
     "delete_cmd_prefix": "rm(",
     "library": "var_list.r",
     "varRefreshCmd": "cat(var_dic_list()) "
    }
   },
   "types_to_exclude": [
    "module",
    "function",
    "builtin_function_or_method",
    "instance",
    "_Feature"
   ],
   "window_display": false
  }
 },
 "nbformat": 4,
 "nbformat_minor": 5
}
