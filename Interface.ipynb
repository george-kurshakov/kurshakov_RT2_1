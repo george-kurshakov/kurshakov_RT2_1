{
 "cells": [
  {
   "cell_type": "markdown",
   "id": "21fe064a",
   "metadata": {},
   "source": [
    "# Welcome!"
   ]
  },
  {
   "cell_type": "markdown",
   "id": "6d00b358",
   "metadata": {},
   "source": [
    "In this initial part we import all the packages we might need (a lot of them!)"
   ]
  },
  {
   "cell_type": "code",
   "execution_count": 1,
   "id": "30a0ae0c",
   "metadata": {
    "ExecuteTime": {
     "end_time": "2021-06-02T14:49:03.861807Z",
     "start_time": "2021-06-02T14:48:57.254300Z"
    }
   },
   "outputs": [],
   "source": [
    "%matplotlib widget\n",
    "import matplotlib.pyplot as plt\n",
    "import jupyros as jr\n",
    "import rospy\n",
    "import math\n",
    "from nav_msgs.msg import Odometry\n",
    "from matplotlib import animation, rc\n",
    "from geometry_msgs.msg import Twist\n",
    "from rt2_assignment1.srv import Command\n",
    "import ipywidgets as widgets\n",
    "from ipywidgets import Button, Layout, ButtonStyle, GridBox, VBox, HBox\n",
    "\n",
    "rospy.init_node('robot_control_node')"
   ]
  },
  {
   "cell_type": "markdown",
   "id": "e95c1607",
   "metadata": {},
   "source": [
    "## Input"
   ]
  },
  {
   "cell_type": "markdown",
   "id": "738cc2a4",
   "metadata": {},
   "source": [
    "### Buttons to start and stop robot random behavior"
   ]
  },
  {
   "cell_type": "markdown",
   "id": "841dd319",
   "metadata": {},
   "source": [
    "We initialize a user interface client to send our commands."
   ]
  },
  {
   "cell_type": "code",
   "execution_count": 2,
   "id": "9215e6c4",
   "metadata": {
    "ExecuteTime": {
     "end_time": "2021-06-02T14:49:03.890816Z",
     "start_time": "2021-06-02T14:49:03.867431Z"
    }
   },
   "outputs": [],
   "source": [
    "ui_client = rospy.ServiceProxy('/user_interface', Command)"
   ]
  },
  {
   "cell_type": "markdown",
   "id": "90612010",
   "metadata": {},
   "source": [
    "Here we define three beautiful buttons for starting random behavior, stopping it and stopping it immediately."
   ]
  },
  {
   "cell_type": "code",
   "execution_count": 3,
   "id": "1e06f452",
   "metadata": {
    "ExecuteTime": {
     "end_time": "2021-06-02T14:49:04.634868Z",
     "start_time": "2021-06-02T14:49:03.904809Z"
    },
    "scrolled": true
   },
   "outputs": [
    {
     "data": {
      "application/vnd.jupyter.widget-view+json": {
       "model_id": "d60e266883174874826cf21810e0ab69",
       "version_major": 2,
       "version_minor": 0
      },
      "text/plain": [
       "HBox(children=(Button(description='START', layout=Layout(grid_area='start', width='10%'), style=ButtonStyle(bu…"
      ]
     },
     "metadata": {},
     "output_type": "display_data"
    }
   ],
   "source": [
    "start = Button(description='START',\n",
    "layout=Layout(width='10%', align=\"center\", grid_area='start'),\n",
    "style=ButtonStyle(button_color='lightgreen'))\n",
    "\n",
    "stop = Button(description='STOP',\n",
    "layout=Layout(width='10%', align=\"center\", grid_area='stop'),\n",
    "style=ButtonStyle(button_color='moccasin'))\n",
    "\n",
    "stop_now = Button(description='STOP NOW',\n",
    "layout=Layout(width='10%', align=\"center\", grid_area='stop_now'),\n",
    "style=ButtonStyle(button_color='salmon'))\n",
    "\n",
    "HBox([start, stop, stop_now])"
   ]
  },
  {
   "cell_type": "markdown",
   "id": "5a6d5c4a",
   "metadata": {},
   "source": [
    "And finally we define their behavior upon being clicked. Each button sends its own request to the *user_interface* server, corresponding to the requests in the original assignment solution."
   ]
  },
  {
   "cell_type": "code",
   "execution_count": 4,
   "id": "78a82c61",
   "metadata": {
    "ExecuteTime": {
     "end_time": "2021-06-02T14:49:04.754116Z",
     "start_time": "2021-06-02T14:49:04.676144Z"
    }
   },
   "outputs": [],
   "source": [
    "def on_start_clicked(b):\n",
    "    ui_client(\"start\")\n",
    "    \n",
    "def on_stop_clicked(b):\n",
    "    ui_client(\"stop\")\n",
    "    \n",
    "def on_stopnow_clicked(b):\n",
    "    ui_client(\"stop_now\")\n",
    "    \n",
    "start.on_click(on_start_clicked)\n",
    "stop.on_click(on_stop_clicked)\n",
    "stop_now.on_click(on_stopnow_clicked)"
   ]
  },
  {
   "cell_type": "markdown",
   "id": "a43dd47a",
   "metadata": {},
   "source": [
    "### Sliders to change velocity"
   ]
  },
  {
   "cell_type": "markdown",
   "id": "f285c692",
   "metadata": {},
   "source": [
    "Sliders are directly linked to **ROS Parameter Server**. Every time a slider value is changed, the corresponding parameter is being set to the new value."
   ]
  },
  {
   "cell_type": "code",
   "execution_count": 5,
   "id": "d4d8e07d",
   "metadata": {
    "ExecuteTime": {
     "end_time": "2021-06-02T14:49:05.726877Z",
     "start_time": "2021-06-02T14:49:04.775998Z"
    }
   },
   "outputs": [
    {
     "data": {
      "application/vnd.jupyter.widget-view+json": {
       "model_id": "88c87e894fd24a709423bfea8a8510b7",
       "version_major": 2,
       "version_minor": 0
      },
      "text/plain": [
       "FloatSlider(value=1.0, description='Linear', max=5.0)"
      ]
     },
     "metadata": {},
     "output_type": "display_data"
    },
    {
     "data": {
      "application/vnd.jupyter.widget-view+json": {
       "model_id": "0b8c1e8fd1f14cc5a50fb7070fa236c4",
       "version_major": 2,
       "version_minor": 0
      },
      "text/plain": [
       "FloatSlider(value=1.0, description='Angular', max=5.0)"
      ]
     },
     "metadata": {},
     "output_type": "display_data"
    }
   ],
   "source": [
    "lin_vel = widgets.FloatSlider(min=0.0, max=5.0, value=1.0, description=\"Linear\")\n",
    "display(lin_vel)\n",
    "\n",
    "ang_vel = widgets.FloatSlider(min=0.0, max=5.0, value=1.0, description=\"Angular\")\n",
    "display(ang_vel)\n",
    "\n",
    "def on_valuelin_change(change):\n",
    "    rospy.set_param('lin_vel', change['new'])\n",
    "    \n",
    "def on_valueang_change(change):\n",
    "    rospy.set_param('ang_vel', change['new'])\n",
    "\n",
    "lin_vel.observe(on_valuelin_change, names='value')\n",
    "ang_vel.observe(on_valueang_change, names='value')"
   ]
  },
  {
   "cell_type": "markdown",
   "id": "79936d55",
   "metadata": {},
   "source": [
    "### Manual control buttons"
   ]
  },
  {
   "cell_type": "code",
   "execution_count": 6,
   "id": "5bdc7f83",
   "metadata": {
    "ExecuteTime": {
     "end_time": "2021-06-02T14:49:06.625625Z",
     "start_time": "2021-06-02T14:49:05.748050Z"
    }
   },
   "outputs": [
    {
     "data": {
      "application/vnd.jupyter.widget-view+json": {
       "model_id": "ab6f4cca42b044ce8ad006851c2179f8",
       "version_major": 2,
       "version_minor": 0
      },
      "text/plain": [
       "GridBox(children=(Button(description='↑', layout=Layout(grid_area='forward', width='auto'), style=ButtonStyle(…"
      ]
     },
     "metadata": {},
     "output_type": "display_data"
    }
   ],
   "source": [
    "forward = Button(description='\\u2191',\n",
    "layout=Layout(width='auto', align=\"center\", grid_area='forward'),\n",
    "style=ButtonStyle(button_color='lightgreen'))\n",
    "\n",
    "backward = Button(description='\\u2193',\n",
    "layout=Layout(width='auto', align=\"center\", grid_area='backward'),\n",
    "style=ButtonStyle(button_color='lightgreen'))\n",
    "\n",
    "left = Button(description='\\u21b6',\n",
    "layout=Layout(width='auto', align=\"center\", grid_area='left'),\n",
    "style=ButtonStyle(button_color='lightgreen'))\n",
    "\n",
    "right = Button(description='\\u21b7',\n",
    "layout=Layout(width='auto', align=\"center\", grid_area='right'),\n",
    "style=ButtonStyle(button_color='lightgreen'))\n",
    "\n",
    "cancel = Button(description='O',\n",
    "layout=Layout(width='auto', align=\"center\", grid_area='cancel'),\n",
    "style=ButtonStyle(button_color='lightgreen'))\n",
    "\n",
    "GridBox(children=[forward, backward, left, right, cancel],\n",
    "layout=Layout(\n",
    "width='10%',\n",
    "grid_template_rows='33% 33% 33%',\n",
    "grid_template_columns='33% 33% 33%',\n",
    "grid_template_areas='''\n",
    "\" . forward . \"\n",
    "\"left cancel right \"\n",
    "\" . backward . \"\n",
    "''')\n",
    ")"
   ]
  },
  {
   "cell_type": "code",
   "execution_count": 12,
   "id": "07ec0744",
   "metadata": {
    "ExecuteTime": {
     "end_time": "2021-06-02T14:56:03.416620Z",
     "start_time": "2021-06-02T14:56:03.356597Z"
    }
   },
   "outputs": [],
   "source": [
    "pub = rospy.Publisher('cmd_vel', Twist, queue_size=10)\n",
    "\n",
    "def on_forward_clicked(b):\n",
    "    msg = Twist()\n",
    "    msg.linear.x = rospy.get_param('lin_vel')\n",
    "    pub.publish(msg)\n",
    "    \n",
    "def on_backward_clicked(b):\n",
    "    msg = Twist()\n",
    "    msg.linear.x = -rospy.get_param('lin_vel')\n",
    "    pub.publish(msg)\n",
    "    \n",
    "def on_left_clicked(b):\n",
    "    msg = Twist()\n",
    "    msg.angular.z = -rospy.get_param('ang_vel')\n",
    "    pub.publish(msg)\n",
    "    \n",
    "def on_right_clicked(b):\n",
    "    msg = Twist()\n",
    "    msg.angular.z = rospy.get_param('ang_vel')\n",
    "    pub.publish(msg)\n",
    "    \n",
    "def on_cancel_clicked(b):\n",
    "    msg = Twist()\n",
    "    pub.publish(msg)\n",
    "    \n",
    "forward.on_click(on_forward_clicked)\n",
    "backward.on_click(on_backward_clicked)\n",
    "left.on_click(on_left_clicked)\n",
    "right.on_click(on_right_clicked)\n",
    "cancel.on_click(on_cancel_clicked)"
   ]
  },
  {
   "cell_type": "markdown",
   "id": "5a1f09ae",
   "metadata": {},
   "source": [
    "## Output"
   ]
  },
  {
   "cell_type": "markdown",
   "id": "a4e4a2b7",
   "metadata": {},
   "source": [
    "### A position plot"
   ]
  },
  {
   "cell_type": "code",
   "execution_count": 8,
   "id": "fcfee2b7",
   "metadata": {
    "ExecuteTime": {
     "end_time": "2021-06-02T14:49:09.582179Z",
     "start_time": "2021-06-02T14:49:08.418069Z"
    },
    "scrolled": true
   },
   "outputs": [
    {
     "data": {
      "application/vnd.jupyter.widget-view+json": {
       "model_id": "6e3dac556b874a5ea1fd3534e51841e2",
       "version_major": 2,
       "version_minor": 0
      },
      "text/plain": [
       "Canvas(toolbar=Toolbar(toolitems=[('Home', 'Reset original view', 'home', 'home'), ('Back', 'Back to previous …"
      ]
     },
     "metadata": {},
     "output_type": "display_data"
    }
   ],
   "source": [
    "fig, ax = plt.subplots()\n",
    "fig.suptitle('Robot position plot', fontsize=16)\n",
    "\n",
    "ax.set_xlim(( -5, 5))\n",
    "ax.set_ylim((-5, 5))\n",
    "\n",
    "line, = ax.plot([], [], 'ro')\n",
    "x_data=[]\n",
    "y_data=[]\n",
    "#yaw = 0\n",
    "#quat_x = 0\n",
    "#quat_y = 0\n",
    "#quat_z = 0\n",
    "#quat_w = 0"
   ]
  },
  {
   "cell_type": "code",
   "execution_count": 9,
   "id": "ae404986",
   "metadata": {
    "ExecuteTime": {
     "end_time": "2021-06-02T14:49:09.916440Z",
     "start_time": "2021-06-02T14:49:09.588183Z"
    }
   },
   "outputs": [],
   "source": [
    "def yaw_from_quaternion(x, y, z, w):\n",
    "        \"\"\"\n",
    "        Convert a quaternion into euler angles (roll, pitch, yaw)\n",
    "        roll is rotation around x in radians (counterclockwise)\n",
    "        pitch is rotation around y in radians (counterclockwise)\n",
    "        yaw is rotation around z in radians (counterclockwise)\n",
    "        \"\"\"\n",
    "        t0 = +2.0 * (w * x + y * z)\n",
    "        t1 = +1.0 - 2.0 * (x * x + y * y)\n",
    "        roll_x = math.atan2(t0, t1)\n",
    "     \n",
    "        t2 = +2.0 * (w * y - z * x)\n",
    "        t2 = +1.0 if t2 > +1.0 else t2\n",
    "        t2 = -1.0 if t2 < -1.0 else t2\n",
    "        pitch_y = math.asin(t2)\n",
    "     \n",
    "        t3 = +2.0 * (w * z + x * y)\n",
    "        t4 = +1.0 - 2.0 * (y * y + z * z)\n",
    "        yaw_z = math.atan2(t3, t4)\n",
    "     \n",
    "        return yaw_z # in radians"
   ]
  },
  {
   "cell_type": "code",
   "execution_count": 10,
   "id": "f281763d",
   "metadata": {
    "ExecuteTime": {
     "end_time": "2021-06-02T14:49:10.886239Z",
     "start_time": "2021-06-02T14:49:09.923073Z"
    }
   },
   "outputs": [
    {
     "data": {
      "application/vnd.jupyter.widget-view+json": {
       "model_id": "180c5fb9aa634f6e93daa56c4434d676",
       "version_major": 2,
       "version_minor": 0
      },
      "text/plain": [
       "VBox(children=(HBox(children=(Button(description='Stop', style=ButtonStyle()),)), Output(layout=Layout(border=…"
      ]
     },
     "metadata": {},
     "output_type": "display_data"
    }
   ],
   "source": [
    "def init():\n",
    "    line.set_data([], [])\n",
    "    return (line,)\n",
    "\n",
    "\n",
    "def odom_callback(msg):\n",
    "    y_data.append(msg.pose.pose.position.y)\n",
    "    x_data.append(msg.pose.pose.position.x)\n",
    "    #quat_x = msg.pose.pose.orientation.x\n",
    "    #quat_y = msg.pose.pose.orientation.y\n",
    "    #quat_z = msg.pose.pose.orientation.z\n",
    "    #quat_w = msg.pose.pose.orientation.w\n",
    "    #yaw = yaw_from_quaternion(quat_x, quat_y, quat_z, quat_w)\n",
    "\n",
    "\n",
    "def animate(i):\n",
    "    line.set_data(x_data, y_data)\n",
    "    #ax.arrow(x_data[-1],y_data[-1],math.cos(yaw),math.sin(yaw))\n",
    "    return (line,)\n",
    "\n",
    "\n",
    "\n",
    "jr.subscribe('/odom', Odometry, odom_callback)"
   ]
  },
  {
   "cell_type": "code",
   "execution_count": 11,
   "id": "c6085455",
   "metadata": {
    "ExecuteTime": {
     "end_time": "2021-06-02T14:49:11.375491Z",
     "start_time": "2021-06-02T14:49:10.947144Z"
    }
   },
   "outputs": [],
   "source": [
    "# call the animator. blit=True means only re-draw the parts that have changed.\n",
    "\n",
    "anim = animation.FuncAnimation(fig, animate, init_func=init,\n",
    "                               frames=100, interval=20, blit=True)"
   ]
  },
  {
   "cell_type": "code",
   "execution_count": null,
   "id": "85051047",
   "metadata": {},
   "outputs": [],
   "source": []
  }
 ],
 "metadata": {
  "hide_input": true,
  "kernelspec": {
   "display_name": "Python 3",
   "language": "python",
   "name": "python3"
  },
  "language_info": {
   "codemirror_mode": {
    "name": "ipython",
    "version": 3
   },
   "file_extension": ".py",
   "mimetype": "text/x-python",
   "name": "python",
   "nbconvert_exporter": "python",
   "pygments_lexer": "ipython3",
   "version": "3.8.5"
  },
  "toc": {
   "base_numbering": 1,
   "nav_menu": {},
   "number_sections": true,
   "sideBar": true,
   "skip_h1_title": false,
   "title_cell": "Table of Contents",
   "title_sidebar": "Contents",
   "toc_cell": false,
   "toc_position": {},
   "toc_section_display": true,
   "toc_window_display": false
  },
  "varInspector": {
   "cols": {
    "lenName": 16,
    "lenType": 16,
    "lenVar": 40
   },
   "kernels_config": {
    "python": {
     "delete_cmd_postfix": "",
     "delete_cmd_prefix": "del ",
     "library": "var_list.py",
     "varRefreshCmd": "print(var_dic_list())"
    },
    "r": {
     "delete_cmd_postfix": ") ",
     "delete_cmd_prefix": "rm(",
     "library": "var_list.r",
     "varRefreshCmd": "cat(var_dic_list()) "
    }
   },
   "position": {
    "height": "546.85px",
    "left": "1018px",
    "right": "20px",
    "top": "86px",
    "width": "543px"
   },
   "types_to_exclude": [
    "module",
    "function",
    "builtin_function_or_method",
    "instance",
    "_Feature"
   ],
   "window_display": false
  }
 },
 "nbformat": 4,
 "nbformat_minor": 5
}
