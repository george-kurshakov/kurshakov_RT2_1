{
 "cells": [
  {
   "cell_type": "markdown",
   "id": "21fe064a",
   "metadata": {},
   "source": [
    "# Welcome!"
   ]
  },
  {
   "cell_type": "markdown",
   "id": "6d00b358",
   "metadata": {},
   "source": [
    "In this initial part we import all the packages we might need (a lot of them!)"
   ]
  },
  {
   "cell_type": "code",
   "execution_count": 1,
   "id": "30a0ae0c",
   "metadata": {
    "ExecuteTime": {
     "end_time": "2021-06-30T16:18:13.408058Z",
     "start_time": "2021-06-30T16:18:02.659678Z"
    }
   },
   "outputs": [],
   "source": [
    "%matplotlib widget\n",
    "import matplotlib.pyplot as plt\n",
    "import jupyros as jr\n",
    "import rospy\n",
    "import math\n",
    "from nav_msgs.msg import Odometry\n",
    "from matplotlib import animation, rc\n",
    "from geometry_msgs.msg import Twist\n",
    "from rt2_assignment1.srv import Command\n",
    "from tf import transformations\n",
    "import ipywidgets as widgets\n",
    "from ipywidgets import Button, Layout, ButtonStyle, GridBox, VBox, HBox\n",
    "\n",
    "rospy.init_node('robot_control_node')"
   ]
  },
  {
   "cell_type": "markdown",
   "id": "e95c1607",
   "metadata": {},
   "source": [
    "## Input"
   ]
  },
  {
   "cell_type": "markdown",
   "id": "738cc2a4",
   "metadata": {},
   "source": [
    "### Buttons to start and stop robot random behavior"
   ]
  },
  {
   "cell_type": "markdown",
   "id": "841dd319",
   "metadata": {},
   "source": [
    "We initialize a user interface client to send our commands."
   ]
  },
  {
   "cell_type": "code",
   "execution_count": 2,
   "id": "9215e6c4",
   "metadata": {
    "ExecuteTime": {
     "end_time": "2021-06-30T16:18:13.446879Z",
     "start_time": "2021-06-30T16:18:13.419673Z"
    }
   },
   "outputs": [],
   "source": [
    "ui_client = rospy.ServiceProxy('/user_interface', Command)"
   ]
  },
  {
   "cell_type": "markdown",
   "id": "90612010",
   "metadata": {},
   "source": [
    "Here we define three beautiful buttons for starting random behavior, stopping it and stopping it immediately."
   ]
  },
  {
   "cell_type": "code",
   "execution_count": 3,
   "id": "1e06f452",
   "metadata": {
    "ExecuteTime": {
     "end_time": "2021-06-30T16:18:14.211550Z",
     "start_time": "2021-06-30T16:18:13.527799Z"
    },
    "scrolled": true
   },
   "outputs": [
    {
     "data": {
      "application/vnd.jupyter.widget-view+json": {
       "model_id": "78cb2a8e232e4a1582a0c8df0b2df01b",
       "version_major": 2,
       "version_minor": 0
      },
      "text/plain": [
       "HBox(children=(Button(description='START', layout=Layout(grid_area='start', width='10%'), style=ButtonStyle(bu…"
      ]
     },
     "metadata": {},
     "output_type": "display_data"
    }
   ],
   "source": [
    "start = Button(description='START',\n",
    "layout=Layout(width='10%', align=\"center\", grid_area='start'),\n",
    "style=ButtonStyle(button_color='lightgreen'))\n",
    "\n",
    "stop = Button(description='STOP',\n",
    "layout=Layout(width='10%', align=\"center\", grid_area='stop'),\n",
    "style=ButtonStyle(button_color='moccasin'))\n",
    "\n",
    "stop_now = Button(description='STOP NOW',\n",
    "layout=Layout(width='10%', align=\"center\", grid_area='stop_now'),\n",
    "style=ButtonStyle(button_color='salmon'))\n",
    "\n",
    "HBox([start, stop, stop_now])"
   ]
  },
  {
   "cell_type": "markdown",
   "id": "5a6d5c4a",
   "metadata": {},
   "source": [
    "And finally we define their behavior upon being clicked. Each button sends its own request to the *user_interface* server, corresponding to the requests in the original assignment solution."
   ]
  },
  {
   "cell_type": "code",
   "execution_count": 4,
   "id": "78a82c61",
   "metadata": {
    "ExecuteTime": {
     "end_time": "2021-06-30T16:18:14.270936Z",
     "start_time": "2021-06-30T16:18:14.229536Z"
    }
   },
   "outputs": [],
   "source": [
    "def on_start_clicked(b):\n",
    "    ui_client(\"start\")\n",
    "    \n",
    "def on_stop_clicked(b):\n",
    "    ui_client(\"stop\")\n",
    "    \n",
    "def on_stopnow_clicked(b):\n",
    "    ui_client(\"stop_now\")\n",
    "    \n",
    "start.on_click(on_start_clicked)\n",
    "stop.on_click(on_stop_clicked)\n",
    "stop_now.on_click(on_stopnow_clicked)"
   ]
  },
  {
   "cell_type": "markdown",
   "id": "a43dd47a",
   "metadata": {},
   "source": [
    "### Sliders to change velocity"
   ]
  },
  {
   "cell_type": "markdown",
   "id": "f285c692",
   "metadata": {},
   "source": [
    "Sliders are directly linked to **ROS Parameter Server**. Every time a slider value is changed, the corresponding parameter is being set to the new value."
   ]
  },
  {
   "cell_type": "code",
   "execution_count": 5,
   "id": "d4d8e07d",
   "metadata": {
    "ExecuteTime": {
     "end_time": "2021-06-30T16:18:14.938633Z",
     "start_time": "2021-06-30T16:18:14.289156Z"
    }
   },
   "outputs": [
    {
     "data": {
      "application/vnd.jupyter.widget-view+json": {
       "model_id": "603728555f9e4106adaca32509d60eda",
       "version_major": 2,
       "version_minor": 0
      },
      "text/plain": [
       "FloatSlider(value=1.0, description='Linear', max=2.0)"
      ]
     },
     "metadata": {},
     "output_type": "display_data"
    },
    {
     "data": {
      "application/vnd.jupyter.widget-view+json": {
       "model_id": "c9e740fa4a3d45fd93a031b868b12567",
       "version_major": 2,
       "version_minor": 0
      },
      "text/plain": [
       "FloatSlider(value=1.0, description='Angular', max=2.0)"
      ]
     },
     "metadata": {},
     "output_type": "display_data"
    }
   ],
   "source": [
    "lin_vel = widgets.FloatSlider(min=0.0, max=2.0, value=1.0, description=\"Linear\")\n",
    "display(lin_vel)\n",
    "\n",
    "ang_vel = widgets.FloatSlider(min=0.0, max=2.0, value=1.0, description=\"Angular\")\n",
    "display(ang_vel)\n",
    "\n",
    "def on_valuelin_change(change):\n",
    "    rospy.set_param('lin_vel', change['new'])\n",
    "    \n",
    "def on_valueang_change(change):\n",
    "    rospy.set_param('ang_vel', change['new'])\n",
    "\n",
    "lin_vel.observe(on_valuelin_change, names='value')\n",
    "ang_vel.observe(on_valueang_change, names='value')"
   ]
  },
  {
   "cell_type": "markdown",
   "id": "79936d55",
   "metadata": {},
   "source": [
    "### Manual control buttons"
   ]
  },
  {
   "cell_type": "code",
   "execution_count": 6,
   "id": "5bdc7f83",
   "metadata": {
    "ExecuteTime": {
     "end_time": "2021-06-30T16:18:15.700811Z",
     "start_time": "2021-06-30T16:18:14.963707Z"
    }
   },
   "outputs": [
    {
     "data": {
      "application/vnd.jupyter.widget-view+json": {
       "model_id": "5032f3ce7fb84df88e3ded525305b137",
       "version_major": 2,
       "version_minor": 0
      },
      "text/plain": [
       "GridBox(children=(Button(description='↑', layout=Layout(grid_area='forward', width='auto'), style=ButtonStyle(…"
      ]
     },
     "metadata": {},
     "output_type": "display_data"
    }
   ],
   "source": [
    "forward = Button(description='\\u2191',\n",
    "layout=Layout(width='auto', align=\"center\", grid_area='forward'),\n",
    "style=ButtonStyle(button_color='lightgreen'))\n",
    "\n",
    "backward = Button(description='\\u2193',\n",
    "layout=Layout(width='auto', align=\"center\", grid_area='backward'),\n",
    "style=ButtonStyle(button_color='lightgreen'))\n",
    "\n",
    "left = Button(description='\\u21b6',\n",
    "layout=Layout(width='auto', align=\"center\", grid_area='left'),\n",
    "style=ButtonStyle(button_color='lightgreen'))\n",
    "\n",
    "right = Button(description='\\u21b7',\n",
    "layout=Layout(width='auto', align=\"center\", grid_area='right'),\n",
    "style=ButtonStyle(button_color='lightgreen'))\n",
    "\n",
    "cancel = Button(description='O',\n",
    "layout=Layout(width='auto', align=\"center\", grid_area='cancel'),\n",
    "style=ButtonStyle(button_color='lightgreen'))\n",
    "\n",
    "GridBox(children=[forward, backward, left, right, cancel],\n",
    "layout=Layout(\n",
    "width='10%',\n",
    "grid_template_rows='33% 33% 33%',\n",
    "grid_template_columns='33% 33% 33%',\n",
    "grid_template_areas='''\n",
    "\" . forward . \"\n",
    "\"left cancel right \"\n",
    "\" . backward . \"\n",
    "''')\n",
    ")"
   ]
  },
  {
   "cell_type": "code",
   "execution_count": 7,
   "id": "07ec0744",
   "metadata": {
    "ExecuteTime": {
     "end_time": "2021-06-30T16:18:15.832002Z",
     "start_time": "2021-06-30T16:18:15.718287Z"
    }
   },
   "outputs": [],
   "source": [
    "pub = rospy.Publisher('cmd_vel', Twist, queue_size=10)\n",
    "\n",
    "def on_forward_clicked(b):\n",
    "    msg = Twist()\n",
    "    msg.linear.x = rospy.get_param('lin_vel')\n",
    "    pub.publish(msg)\n",
    "    \n",
    "def on_backward_clicked(b):\n",
    "    msg = Twist()\n",
    "    msg.linear.x = -rospy.get_param('lin_vel')\n",
    "    pub.publish(msg)\n",
    "    \n",
    "def on_left_clicked(b):\n",
    "    msg = Twist()\n",
    "    msg.angular.z = -rospy.get_param('ang_vel')\n",
    "    pub.publish(msg)\n",
    "    \n",
    "def on_right_clicked(b):\n",
    "    msg = Twist()\n",
    "    msg.angular.z = rospy.get_param('ang_vel')\n",
    "    pub.publish(msg)\n",
    "    \n",
    "def on_cancel_clicked(b):\n",
    "    msg = Twist()\n",
    "    pub.publish(msg)\n",
    "    \n",
    "forward.on_click(on_forward_clicked)\n",
    "backward.on_click(on_backward_clicked)\n",
    "left.on_click(on_left_clicked)\n",
    "right.on_click(on_right_clicked)\n",
    "cancel.on_click(on_cancel_clicked)"
   ]
  },
  {
   "cell_type": "markdown",
   "id": "5a1f09ae",
   "metadata": {},
   "source": [
    "## Output"
   ]
  },
  {
   "cell_type": "markdown",
   "id": "a4e4a2b7",
   "metadata": {},
   "source": [
    "### A position plot"
   ]
  },
  {
   "cell_type": "code",
   "execution_count": 8,
   "id": "fcfee2b7",
   "metadata": {
    "ExecuteTime": {
     "end_time": "2021-06-30T16:18:16.456538Z",
     "start_time": "2021-06-30T16:18:15.956826Z"
    },
    "scrolled": true
   },
   "outputs": [
    {
     "data": {
      "application/vnd.jupyter.widget-view+json": {
       "model_id": "8916e02a9c1b477aa0ba65de77dac331",
       "version_major": 2,
       "version_minor": 0
      },
      "text/plain": [
       "Canvas(toolbar=Toolbar(toolitems=[('Home', 'Reset original view', 'home', 'home'), ('Back', 'Back to previous …"
      ]
     },
     "metadata": {},
     "output_type": "display_data"
    }
   ],
   "source": [
    "fig, ax = plt.subplots()\n",
    "fig.suptitle('Robot position and orientation plot', fontsize=16)\n",
    "\n",
    "ax.set_xlim(( -5, 5))\n",
    "ax.set_ylim((-5, 5))\n",
    "ax.set_aspect(\"equal\")\n",
    "\n",
    "line, = ax.plot([], [], 'ro')\n",
    "an1 = ax.annotate(\"\", xy=(0, 1), xytext=(0, 0), arrowprops={\"facecolor\": \"black\"})\n",
    "#orient, = ax.plot([], [], 'ko')\n",
    "x_data=[]\n",
    "y_data=[]\n",
    "yaw = 0"
   ]
  },
  {
   "cell_type": "code",
   "execution_count": 9,
   "id": "f281763d",
   "metadata": {
    "ExecuteTime": {
     "end_time": "2021-06-30T16:18:16.874428Z",
     "start_time": "2021-06-30T16:18:16.469125Z"
    }
   },
   "outputs": [
    {
     "data": {
      "application/vnd.jupyter.widget-view+json": {
       "model_id": "4151bc11725347a9bcd219f375119827",
       "version_major": 2,
       "version_minor": 0
      },
      "text/plain": [
       "VBox(children=(HBox(children=(Button(description='Stop', style=ButtonStyle()),)), Output(layout=Layout(border=…"
      ]
     },
     "metadata": {},
     "output_type": "display_data"
    }
   ],
   "source": [
    "def init():\n",
    "    line.set_data([], [])\n",
    "    #orient.set_data([], [])\n",
    "    return (line, )\n",
    "\n",
    "\n",
    "def odom_callback(msg):\n",
    "    global yaw\n",
    "    y_data.append(msg.pose.pose.position.y)\n",
    "    x_data.append(msg.pose.pose.position.x)\n",
    "    quaternion = (\n",
    "        msg.pose.pose.orientation.x,\n",
    "        msg.pose.pose.orientation.y,\n",
    "        msg.pose.pose.orientation.z,\n",
    "        msg.pose.pose.orientation.w)\n",
    "    euler = transformations.euler_from_quaternion(quaternion)\n",
    "    yaw = euler[2]\n",
    "\n",
    "\n",
    "def animate(i):\n",
    "    global yaw\n",
    "    line.set_data(x_data, y_data)\n",
    "    #endy = y_data[-1] + 1 * math.sin(math.radians(angle))\n",
    "    #endx = x_data[-1] + 1 * math.cos(math.radians(angle))\n",
    "    an1.xy = (x_data[-1] + math.cos(yaw), y_data[-1] + math.sin(yaw))\n",
    "    an1.set_position((x_data[-1], y_data[-1]))\n",
    "    #orient.set_data(endx, endy)\n",
    "    #ax.arrow(x_data[-1],y_data[-1],math.cos(yaw),math.sin(yaw))\n",
    "    return (line, an1)\n",
    "\n",
    "\n",
    "\n",
    "jr.subscribe('/odom', Odometry, odom_callback)"
   ]
  },
  {
   "cell_type": "code",
   "execution_count": 10,
   "id": "c6085455",
   "metadata": {
    "ExecuteTime": {
     "end_time": "2021-06-30T16:18:17.187496Z",
     "start_time": "2021-06-30T16:18:16.894360Z"
    }
   },
   "outputs": [],
   "source": [
    "# call the animator. blit=True means only re-draw the parts that have changed.\n",
    "\n",
    "anim = animation.FuncAnimation(fig, animate, init_func=init,\n",
    "                               frames=100, interval=20, blit=True)"
   ]
  },
  {
   "cell_type": "code",
   "execution_count": null,
   "id": "85051047",
   "metadata": {},
   "outputs": [],
   "source": []
  }
 ],
 "metadata": {
  "hide_input": true,
  "kernelspec": {
   "display_name": "Python 3",
   "language": "python",
   "name": "python3"
  },
  "language_info": {
   "codemirror_mode": {
    "name": "ipython",
    "version": 3
   },
   "file_extension": ".py",
   "mimetype": "text/x-python",
   "name": "python",
   "nbconvert_exporter": "python",
   "pygments_lexer": "ipython3",
   "version": "3.8.5"
  },
  "toc": {
   "base_numbering": 1,
   "nav_menu": {},
   "number_sections": true,
   "sideBar": true,
   "skip_h1_title": false,
   "title_cell": "Table of Contents",
   "title_sidebar": "Contents",
   "toc_cell": false,
   "toc_position": {},
   "toc_section_display": true,
   "toc_window_display": false
  },
  "varInspector": {
   "cols": {
    "lenName": 16,
    "lenType": 16,
    "lenVar": 40
   },
   "kernels_config": {
    "python": {
     "delete_cmd_postfix": "",
     "delete_cmd_prefix": "del ",
     "library": "var_list.py",
     "varRefreshCmd": "print(var_dic_list())"
    },
    "r": {
     "delete_cmd_postfix": ") ",
     "delete_cmd_prefix": "rm(",
     "library": "var_list.r",
     "varRefreshCmd": "cat(var_dic_list()) "
    }
   },
   "position": {
    "height": "546.85px",
    "left": "1017px",
    "right": "20px",
    "top": "86px",
    "width": "543px"
   },
   "types_to_exclude": [
    "module",
    "function",
    "builtin_function_or_method",
    "instance",
    "_Feature"
   ],
   "window_display": false
  }
 },
 "nbformat": 4,
 "nbformat_minor": 5
}
